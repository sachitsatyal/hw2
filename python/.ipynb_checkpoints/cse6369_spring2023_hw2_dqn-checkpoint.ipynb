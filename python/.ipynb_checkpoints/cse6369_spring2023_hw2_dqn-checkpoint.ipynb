{
 "cells": [
  {
   "cell_type": "markdown",
   "metadata": {
    "id": "BSjb-zwKzJSW"
   },
   "source": [
    "# CSE 6369 - Spring 2023 - Homework 2 (Deep-Q-Network)\n",
    "\n",
    "\n",
    "## Student Name:\n",
    "\n",
    "\n",
    "## Student ID: "
   ]
  },
  {
   "cell_type": "markdown",
   "metadata": {
    "id": "qg05ESogmSng"
   },
   "source": [
    "# Install packages"
   ]
  },
  {
   "cell_type": "code",
   "execution_count": 1,
   "metadata": {
    "id": "ZU6o_mdnmMAR"
   },
   "outputs": [],
   "source": [
    "!pip install gymnasium==0.27.1 -q\n",
    "!pip install gymnasium[box2d] -q\n",
    "!pip install moviepy -q\n",
    "!pip install -U kora -q"
   ]
  },
  {
   "cell_type": "markdown",
   "metadata": {
    "id": "lLDP4n6cmEuZ"
   },
   "source": [
    "# Import libraries"
   ]
  },
  {
   "cell_type": "code",
   "execution_count": 2,
   "metadata": {
    "id": "-e69d4FGlaGd"
   },
   "outputs": [
    {
     "ename": "ModuleNotFoundError",
     "evalue": "No module named 'google.colab'",
     "output_type": "error",
     "traceback": [
      "\u001b[1;31m---------------------------------------------------------------------------\u001b[0m",
      "\u001b[1;31mModuleNotFoundError\u001b[0m                       Traceback (most recent call last)",
      "Input \u001b[1;32mIn [2]\u001b[0m, in \u001b[0;36m<cell line: 7>\u001b[1;34m()\u001b[0m\n\u001b[0;32m      5\u001b[0m \u001b[38;5;28;01mimport\u001b[39;00m \u001b[38;5;21;01mmatplotlib\u001b[39;00m\u001b[38;5;21;01m.\u001b[39;00m\u001b[38;5;21;01mpyplot\u001b[39;00m \u001b[38;5;28;01mas\u001b[39;00m \u001b[38;5;21;01mplt\u001b[39;00m\n\u001b[0;32m      6\u001b[0m \u001b[38;5;28;01mimport\u001b[39;00m \u001b[38;5;21;01mseaborn\u001b[39;00m \u001b[38;5;28;01mas\u001b[39;00m \u001b[38;5;21;01msns\u001b[39;00m\n\u001b[1;32m----> 7\u001b[0m \u001b[38;5;28;01mfrom\u001b[39;00m \u001b[38;5;21;01mkora\u001b[39;00m\u001b[38;5;21;01m.\u001b[39;00m\u001b[38;5;21;01mdrive\u001b[39;00m \u001b[38;5;28;01mimport\u001b[39;00m upload_public\n\u001b[0;32m      8\u001b[0m \u001b[38;5;28;01mfrom\u001b[39;00m \u001b[38;5;21;01mgoogle\u001b[39;00m\u001b[38;5;21;01m.\u001b[39;00m\u001b[38;5;21;01mcolab\u001b[39;00m \u001b[38;5;28;01mimport\u001b[39;00m drive\n\u001b[0;32m     10\u001b[0m drive\u001b[38;5;241m.\u001b[39mmount(\u001b[38;5;124m'\u001b[39m\u001b[38;5;124m/content/gdrive\u001b[39m\u001b[38;5;124m'\u001b[39m)\n",
      "File \u001b[1;32m~\\anaconda3\\lib\\site-packages\\kora\\drive.py:11\u001b[0m, in \u001b[0;36m<module>\u001b[1;34m\u001b[0m\n\u001b[0;32m      8\u001b[0m \u001b[38;5;28;01mfrom\u001b[39;00m \u001b[38;5;21;01murllib\u001b[39;00m\u001b[38;5;21;01m.\u001b[39;00m\u001b[38;5;21;01mrequest\u001b[39;00m \u001b[38;5;28;01mimport\u001b[39;00m urlretrieve\n\u001b[0;32m      9\u001b[0m \u001b[38;5;28;01mfrom\u001b[39;00m \u001b[38;5;21;01murllib\u001b[39;00m\u001b[38;5;21;01m.\u001b[39;00m\u001b[38;5;21;01mparse\u001b[39;00m \u001b[38;5;28;01mimport\u001b[39;00m unquote\n\u001b[1;32m---> 11\u001b[0m \u001b[38;5;28;01mfrom\u001b[39;00m \u001b[38;5;21;01mgoogle\u001b[39;00m\u001b[38;5;21;01m.\u001b[39;00m\u001b[38;5;21;01mcolab\u001b[39;00m\u001b[38;5;21;01m.\u001b[39;00m\u001b[38;5;21;01mdrive\u001b[39;00m \u001b[38;5;28;01mimport\u001b[39;00m mount\n\u001b[0;32m     14\u001b[0m \u001b[38;5;28;01mdef\u001b[39;00m \u001b[38;5;21mauth_drive\u001b[39m():\n\u001b[0;32m     15\u001b[0m     \u001b[38;5;28;01mfrom\u001b[39;00m \u001b[38;5;21;01mpydrive\u001b[39;00m\u001b[38;5;21;01m.\u001b[39;00m\u001b[38;5;21;01mauth\u001b[39;00m \u001b[38;5;28;01mimport\u001b[39;00m GoogleAuth\n",
      "\u001b[1;31mModuleNotFoundError\u001b[0m: No module named 'google.colab'"
     ]
    }
   ],
   "source": [
    "import pickle\n",
    "import random\n",
    "import argparse\n",
    "import moviepy\n",
    "import matplotlib.pyplot as plt\n",
    "import seaborn as sns\n",
    "# from kora.drive import upload_public\n",
    "# from google.colab import drive\n",
    "\n",
    "# drive.mount('/content/gdrive')\n",
    "# %cd gdrive/MyDrive/hw2/\n",
    "\n",
    "from learning_algorithms import DQNTrainer\n",
    "from utils import seed_everything"
   ]
  },
  {
   "cell_type": "markdown",
   "metadata": {
    "id": "A9-qFcWVpzGc"
   },
   "source": [
    "# Train an agent"
   ]
  },
  {
   "cell_type": "code",
   "execution_count": null,
   "metadata": {
    "id": "n0hSISzelkYw"
   },
   "outputs": [],
   "source": [
    "# set simulation parameters\n",
    "params = {\n",
    "    'env_name': 'CartPole-v1',\n",
    "    'rng_seed': 6369,\n",
    "    'n_episode': 35,\n",
    "    'rm_cap': 8192,\n",
    "    'batch_size': 128,\n",
    "    'hidden_dim': 128,\n",
    "    'init_epsilon': 0.9,\n",
    "    'min_epsilon': 0.05,\n",
    "    'epsilon_decay': 0.99,\n",
    "    'gamma': 0.99,\n",
    "    'tau': 0.005,\n",
    "    'lr': 3e-3,\n",
    "    'exp_name': 'CartPole_v1_t0'\n",
    "}\n",
    "\n",
    "# Seed RNGs\n",
    "seed_everything(params['rng_seed'])\n",
    "\n",
    "# Train agent\n",
    "trainer = DQNTrainer(params)\n",
    "trainer.run_training_loop()"
   ]
  },
  {
   "cell_type": "markdown",
   "metadata": {
    "id": "MFBDYmdAwWUg"
   },
   "source": [
    "# Display Video"
   ]
  },
  {
   "cell_type": "code",
   "execution_count": null,
   "metadata": {
    "id": "FZn9tuKXwVgZ"
   },
   "outputs": [],
   "source": [
    "# (ref: https://stackoverflow.com/questions/48376580/google-colab-how-to-read-data-from-my-google-drive)\n",
    "# Upload video\n",
    "url = upload_public('CartPole/rl-video-episode-0.mp4')\n",
    "# Then display it\n",
    "from IPython.display import HTML\n",
    "HTML(f\"\"\"<video src={url} width=500 controls/>\"\"\")"
   ]
  },
  {
   "cell_type": "markdown",
   "metadata": {
    "id": "2hE4ZI8ZocXH"
   },
   "source": [
    "# Visualize learning curve"
   ]
  },
  {
   "cell_type": "code",
   "execution_count": null,
   "metadata": {
    "id": "rSM3mWLnmsYY"
   },
   "outputs": [],
   "source": [
    "# (ref: http://rail.eecs.berkeley.edu/deeprlcourse/static/misc/viz.pdf)\n",
    "file_name = params['exp_name'] + '.pkl'\n",
    "with open(file_name, 'rb') as f:\n",
    "    ro_reward = pickle.load(f)\n",
    "\n",
    "# Plot the data\n",
    "sns.lineplot(data=ro_reward, linestyle='--', label='tr1')\n",
    "plt.xlabel('rollout', fontsize=25, labelpad=-2)\n",
    "plt.ylabel('reward', fontsize=25)\n",
    "plt.title('Learning curve for CartPole with DQN', fontsize=30)\n",
    "plt.legend()\n",
    "plt.grid()\n",
    "plt.show()"
   ]
  },
  {
   "cell_type": "code",
   "execution_count": null,
   "metadata": {
    "id": "faxFhA6Oi14v"
   },
   "outputs": [],
   "source": []
  }
 ],
 "metadata": {
  "colab": {
   "authorship_tag": "ABX9TyPl2MB+Sn5aXBXSzGcj+PWi",
   "mount_file_id": "1STsSFS1APvC50PL1kLblD5MJA1UwKoqb",
   "provenance": []
  },
  "gpuClass": "standard",
  "kernelspec": {
   "display_name": "Python 3 (ipykernel)",
   "language": "python",
   "name": "python3"
  },
  "language_info": {
   "codemirror_mode": {
    "name": "ipython",
    "version": 3
   },
   "file_extension": ".py",
   "mimetype": "text/x-python",
   "name": "python",
   "nbconvert_exporter": "python",
   "pygments_lexer": "ipython3",
   "version": "3.9.12"
  }
 },
 "nbformat": 4,
 "nbformat_minor": 1
}
