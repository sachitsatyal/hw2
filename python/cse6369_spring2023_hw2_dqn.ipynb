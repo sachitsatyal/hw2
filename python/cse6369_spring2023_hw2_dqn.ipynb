{
 "cells": [
  {
   "cell_type": "markdown",
   "metadata": {
    "id": "BSjb-zwKzJSW"
   },
   "source": [
    "# CSE 6369 - Spring 2023 - Homework 2 (Deep-Q-Network)\n",
    "\n",
    "\n",
    "## Student Name:\n",
    "\n",
    "\n",
    "## Student ID: "
   ]
  },
  {
   "cell_type": "markdown",
   "metadata": {
    "id": "qg05ESogmSng"
   },
   "source": [
    "# Install packages"
   ]
  },
  {
   "cell_type": "code",
   "execution_count": 1,
   "metadata": {
    "id": "ZU6o_mdnmMAR"
   },
   "outputs": [],
   "source": [
    "!pip install gymnasium==0.27.1 -q\n",
    "!pip install gymnasium[box2d] -q\n",
    "!pip install moviepy -q\n",
    "!pip install -U kora -q"
   ]
  },
  {
   "cell_type": "markdown",
   "metadata": {
    "id": "lLDP4n6cmEuZ"
   },
   "source": [
    "# Import libraries"
   ]
  },
  {
   "cell_type": "code",
   "execution_count": 3,
   "metadata": {
    "id": "-e69d4FGlaGd"
   },
   "outputs": [],
   "source": [
    "import pickle\n",
    "import random\n",
    "import argparse\n",
    "import moviepy\n",
    "import matplotlib.pyplot as plt\n",
    "import seaborn as sns\n",
    "# from kora.drive import upload_public\n",
    "# from google.colab import drive\n",
    "\n",
    "# drive.mount('/content/gdrive')\n",
    "# %cd gdrive/MyDrive/hw2/\n",
    "\n",
    "from learning_algorithms import DQNTrainer\n",
    "from utils import seed_everything"
   ]
  },
  {
   "cell_type": "markdown",
   "metadata": {
    "id": "A9-qFcWVpzGc"
   },
   "source": [
    "# Train an agent"
   ]
  },
  {
   "cell_type": "code",
   "execution_count": 4,
   "metadata": {
    "id": "n0hSISzelkYw"
   },
   "outputs": [
    {
     "name": "stdout",
     "output_type": "stream",
     "text": [
      "End of episode 0 with epsilon =  0.89 and reward = 11, memory = 11\n",
      "End of episode 1 with epsilon =  0.88 and reward = 23, memory = 34\n",
      "End of episode 2 with epsilon =  0.87 and reward = 12, memory = 46\n",
      "End of episode 3 with epsilon =  0.86 and reward = 9, memory = 55\n",
      "End of episode 4 with epsilon =  0.86 and reward = 9, memory = 64\n",
      "End of episode 5 with epsilon =  0.85 and reward = 18, memory = 82\n",
      "End of episode 6 with epsilon =  0.84 and reward = 21, memory = 103\n",
      "End of episode 7 with epsilon =  0.83 and reward = 16, memory = 119\n",
      "End of episode 8 with epsilon =  0.82 and reward = 20, memory = 139\n",
      "End of episode 9 with epsilon =  0.81 and reward = 11, memory = 150\n",
      "End of episode 10 with epsilon =  0.81 and reward = 14, memory = 164\n",
      "End of episode 11 with epsilon =  0.80 and reward = 17, memory = 181\n",
      "End of episode 12 with epsilon =  0.79 and reward = 14, memory = 195\n",
      "End of episode 13 with epsilon =  0.78 and reward = 20, memory = 215\n",
      "End of episode 14 with epsilon =  0.77 and reward = 30, memory = 245\n",
      "End of episode 15 with epsilon =  0.77 and reward = 31, memory = 276\n",
      "End of episode 16 with epsilon =  0.76 and reward = 17, memory = 293\n",
      "End of episode 17 with epsilon =  0.75 and reward = 24, memory = 317\n",
      "End of episode 18 with epsilon =  0.74 and reward = 16, memory = 333\n",
      "End of episode 19 with epsilon =  0.74 and reward = 20, memory = 353\n",
      "End of episode 20 with epsilon =  0.73 and reward = 21, memory = 374\n",
      "End of episode 21 with epsilon =  0.72 and reward = 35, memory = 409\n",
      "End of episode 22 with epsilon =  0.71 and reward = 12, memory = 421\n",
      "End of episode 23 with epsilon =  0.71 and reward = 40, memory = 461\n",
      "End of episode 24 with epsilon =  0.70 and reward = 24, memory = 485\n",
      "End of episode 25 with epsilon =  0.69 and reward = 62, memory = 547\n",
      "End of episode 26 with epsilon =  0.69 and reward = 11, memory = 558\n",
      "End of episode 27 with epsilon =  0.68 and reward = 24, memory = 582\n",
      "End of episode 28 with epsilon =  0.67 and reward = 16, memory = 598\n",
      "End of episode 29 with epsilon =  0.67 and reward = 11, memory = 609\n",
      "End of episode 30 with epsilon =  0.66 and reward = 68, memory = 677\n",
      "End of episode 31 with epsilon =  0.65 and reward = 86, memory = 763\n",
      "End of episode 32 with epsilon =  0.65 and reward = 23, memory = 786\n",
      "End of episode 33 with epsilon =  0.64 and reward = 33, memory = 819\n",
      "End of episode 34 with epsilon =  0.63 and reward = 39, memory = 858\n",
      "Moviepy - Building video C:\\Users\\USER\\Downloads\\hlai2\\hw2\\python\\CartPole/rl-video-episode-0.mp4.\n",
      "Moviepy - Writing video C:\\Users\\USER\\Downloads\\hlai2\\hw2\\python\\CartPole/rl-video-episode-0.mp4\n",
      "\n"
     ]
    },
    {
     "name": "stderr",
     "output_type": "stream",
     "text": [
      "                                                               \r"
     ]
    },
    {
     "name": "stdout",
     "output_type": "stream",
     "text": [
      "Moviepy - Done !\n",
      "Moviepy - video ready C:\\Users\\USER\\Downloads\\hlai2\\hw2\\python\\CartPole/rl-video-episode-0.mp4\n"
     ]
    }
   ],
   "source": [
    "# set simulation parameters\n",
    "params = {\n",
    "    'env_name': 'CartPole-v1',\n",
    "    'rng_seed': 6369,\n",
    "    'n_episode': 35,\n",
    "    'rm_cap': 8192,\n",
    "    'batch_size': 128,\n",
    "    'hidden_dim': 128,\n",
    "    'init_epsilon': 0.9,\n",
    "    'min_epsilon': 0.05,\n",
    "    'epsilon_decay': 0.99,\n",
    "    'gamma': 0.99,\n",
    "    'tau': 0.005,\n",
    "    'lr': 3e-3,\n",
    "    'exp_name': 'CartPole_v1_t0'\n",
    "}\n",
    "\n",
    "# Seed RNGs\n",
    "seed_everything(params['rng_seed'])\n",
    "\n",
    "# Train agent\n",
    "trainer = DQNTrainer(params)\n",
    "trainer.run_training_loop()"
   ]
  },
  {
   "cell_type": "code",
   "execution_count": null,
   "metadata": {},
   "outputs": [],
   "source": []
  },
  {
   "cell_type": "markdown",
   "metadata": {
    "id": "MFBDYmdAwWUg"
   },
   "source": [
    "# Display Video"
   ]
  },
  {
   "cell_type": "code",
   "execution_count": 3,
   "metadata": {
    "id": "FZn9tuKXwVgZ"
   },
   "outputs": [],
   "source": [
    "# (ref: https://stackoverflow.com/questions/48376580/google-colab-how-to-read-data-from-my-google-drive)\n",
    "# Upload video\n",
    "# url = upload_public('CartPole/rl-video-episode-0.mp4')\n",
    "# Then display it\n",
    "# from IPython.display import HTML\n",
    "# HTML(f\"\"\"<video src={url} width=500 controls/>\"\"\")"
   ]
  },
  {
   "cell_type": "markdown",
   "metadata": {
    "id": "2hE4ZI8ZocXH"
   },
   "source": [
    "# Visualize learning curve"
   ]
  },
  {
   "cell_type": "code",
   "execution_count": 4,
   "metadata": {
    "id": "rSM3mWLnmsYY"
   },
   "outputs": [
    {
     "ename": "SyntaxError",
     "evalue": "invalid non-printable character U+00A0 (3246842013.py, line 5)",
     "output_type": "error",
     "traceback": [
      "\u001b[1;36m  Input \u001b[1;32mIn [4]\u001b[1;36m\u001b[0m\n\u001b[1;33m    \u001b[0m\n\u001b[1;37m    ^\u001b[0m\n\u001b[1;31mSyntaxError\u001b[0m\u001b[1;31m:\u001b[0m invalid non-printable character U+00A0\n"
     ]
    }
   ],
   "source": [
    "import pickle\n",
    "import seaborn as sns\n",
    "import matplotlib.pyplot as plt\n",
    "\n",
    " \n",
    "# Function to load rewards data from a file\n",
    "def load_rewards(file_name):\n",
    "    with open(file_name, 'rb') as f:\n",
    "        return pickle.load(f)\n",
    "\n",
    "# Load the rewards data from three different trials\n",
    "exp_name = params['exp_name']\n",
    "rewards_data = [load_rewards(f'{exp_name}_t{i}.pkl') for i in range(3)]\n",
    "\n",
    "\n",
    "# Plot the data for each trial\n",
    "for i, rewards in enumerate(rewards_data):\n",
    "    sns.lineplot(data=rewards, linestyle='--', label=f't{i}')\n",
    "\n",
    "\n",
    "plt.xlabel('Rollout', fontsize=25, labelpad=-2)\n",
    "plt.ylabel('Reward', fontsize=25)\n",
    "plt.title('Learning Curve Comparison for CartPole with DQN', fontsize=30)\n",
    "plt.legend()\n",
    "plt.grid()\n",
    "plt.show()"
   ]
  },
  {
   "cell_type": "code",
   "execution_count": null,
   "metadata": {
    "id": "faxFhA6Oi14v"
   },
   "outputs": [],
   "source": []
  }
 ],
 "metadata": {
  "colab": {
   "authorship_tag": "ABX9TyPl2MB+Sn5aXBXSzGcj+PWi",
   "mount_file_id": "1STsSFS1APvC50PL1kLblD5MJA1UwKoqb",
   "provenance": []
  },
  "gpuClass": "standard",
  "kernelspec": {
   "display_name": "Python 3 (ipykernel)",
   "language": "python",
   "name": "python3"
  },
  "language_info": {
   "codemirror_mode": {
    "name": "ipython",
    "version": 3
   },
   "file_extension": ".py",
   "mimetype": "text/x-python",
   "name": "python",
   "nbconvert_exporter": "python",
   "pygments_lexer": "ipython3",
   "version": "3.9.12"
  }
 },
 "nbformat": 4,
 "nbformat_minor": 1
}
